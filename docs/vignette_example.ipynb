{
 "cells": [
  {
   "cell_type": "markdown",
   "metadata": {},
   "source": [
    "# Example Vignette - ny_artsy_date\n",
    "\n",
    "This vignette goes through some of the functionalities and installation instructions for the `ny_artsy_date` functions:"
   ]
  },
  {
   "cell_type": "markdown",
   "metadata": {},
   "source": [
    "## Installation "
   ]
  },
  {
   "cell_type": "markdown",
   "metadata": {},
   "source": [
    "Make sure you use python 3.9, as this is part of the package dependency. "
   ]
  },
  {
   "cell_type": "code",
   "execution_count": 1,
   "metadata": {},
   "outputs": [
    {
     "name": "stdout",
     "output_type": "stream",
     "text": [
      "Looking in indexes: https://test.pypi.org/pypi/, https://pypi.org/simple/\n",
      "Requirement already satisfied: ny_artsy_date in /Users/ConnieXu/Library/Caches/pypoetry/virtualenvs/ny-artsy-date-Bd2ND-kG-py3.9/lib/python3.9/site-packages (0.1.0)\n",
      "Requirement already satisfied: pandas<2.0.0,>=1.3.5 in /Users/ConnieXu/Library/Caches/pypoetry/virtualenvs/ny-artsy-date-Bd2ND-kG-py3.9/lib/python3.9/site-packages (from ny_artsy_date) (1.3.5)\n",
      "Requirement already satisfied: pytest-cov<4.0.0,>=3.0.0 in /Users/ConnieXu/Library/Caches/pypoetry/virtualenvs/ny-artsy-date-Bd2ND-kG-py3.9/lib/python3.9/site-packages (from ny_artsy_date) (3.0.0)\n",
      "Requirement already satisfied: pytest<7.0.0,>=6.2.5 in /Users/ConnieXu/Library/Caches/pypoetry/virtualenvs/ny-artsy-date-Bd2ND-kG-py3.9/lib/python3.9/site-packages (from ny_artsy_date) (6.2.5)\n",
      "Requirement already satisfied: numpy<2.0.0,>=1.21.4 in /Users/ConnieXu/Library/Caches/pypoetry/virtualenvs/ny-artsy-date-Bd2ND-kG-py3.9/lib/python3.9/site-packages (from ny_artsy_date) (1.21.4)\n",
      "Requirement already satisfied: googlemaps<5.0.0,>=4.5.3 in /Users/ConnieXu/Library/Caches/pypoetry/virtualenvs/ny-artsy-date-Bd2ND-kG-py3.9/lib/python3.9/site-packages (from ny_artsy_date) (4.5.3)\n",
      "Requirement already satisfied: gmaps<0.10.0,>=0.9.0 in /Users/ConnieXu/Library/Caches/pypoetry/virtualenvs/ny-artsy-date-Bd2ND-kG-py3.9/lib/python3.9/site-packages (from ny_artsy_date) (0.9.0)\n",
      "Requirement already satisfied: lxml<5.0.0,>=4.7.1 in /Users/ConnieXu/Library/Caches/pypoetry/virtualenvs/ny-artsy-date-Bd2ND-kG-py3.9/lib/python3.9/site-packages (from ny_artsy_date) (4.7.1)\n",
      "Requirement already satisfied: requests<3.0.0,>=2.26.0 in /Users/ConnieXu/Library/Caches/pypoetry/virtualenvs/ny-artsy-date-Bd2ND-kG-py3.9/lib/python3.9/site-packages (from ny_artsy_date) (2.26.0)\n",
      "Requirement already satisfied: six in /Users/ConnieXu/Library/Caches/pypoetry/virtualenvs/ny-artsy-date-Bd2ND-kG-py3.9/lib/python3.9/site-packages (from gmaps<0.10.0,>=0.9.0->ny_artsy_date) (1.16.0)\n",
      "Requirement already satisfied: geojson>=2.0.0 in /Users/ConnieXu/Library/Caches/pypoetry/virtualenvs/ny-artsy-date-Bd2ND-kG-py3.9/lib/python3.9/site-packages (from gmaps<0.10.0,>=0.9.0->ny_artsy_date) (2.5.0)\n",
      "Requirement already satisfied: ipython>=5.3.0 in /Users/ConnieXu/Library/Caches/pypoetry/virtualenvs/ny-artsy-date-Bd2ND-kG-py3.9/lib/python3.9/site-packages (from gmaps<0.10.0,>=0.9.0->ny_artsy_date) (7.30.1)\n",
      "Requirement already satisfied: ipywidgets>=7.0.0 in /Users/ConnieXu/Library/Caches/pypoetry/virtualenvs/ny-artsy-date-Bd2ND-kG-py3.9/lib/python3.9/site-packages (from gmaps<0.10.0,>=0.9.0->ny_artsy_date) (7.6.5)\n",
      "Requirement already satisfied: traitlets>=4.3.0 in /Users/ConnieXu/Library/Caches/pypoetry/virtualenvs/ny-artsy-date-Bd2ND-kG-py3.9/lib/python3.9/site-packages (from gmaps<0.10.0,>=0.9.0->ny_artsy_date) (5.1.1)\n",
      "Requirement already satisfied: prompt-toolkit!=3.0.0,!=3.0.1,<3.1.0,>=2.0.0 in /Users/ConnieXu/Library/Caches/pypoetry/virtualenvs/ny-artsy-date-Bd2ND-kG-py3.9/lib/python3.9/site-packages (from ipython>=5.3.0->gmaps<0.10.0,>=0.9.0->ny_artsy_date) (3.0.24)\n",
      "Requirement already satisfied: pickleshare in /Users/ConnieXu/Library/Caches/pypoetry/virtualenvs/ny-artsy-date-Bd2ND-kG-py3.9/lib/python3.9/site-packages (from ipython>=5.3.0->gmaps<0.10.0,>=0.9.0->ny_artsy_date) (0.7.5)\n",
      "Requirement already satisfied: backcall in /Users/ConnieXu/Library/Caches/pypoetry/virtualenvs/ny-artsy-date-Bd2ND-kG-py3.9/lib/python3.9/site-packages (from ipython>=5.3.0->gmaps<0.10.0,>=0.9.0->ny_artsy_date) (0.2.0)\n",
      "Requirement already satisfied: pygments in /Users/ConnieXu/Library/Caches/pypoetry/virtualenvs/ny-artsy-date-Bd2ND-kG-py3.9/lib/python3.9/site-packages (from ipython>=5.3.0->gmaps<0.10.0,>=0.9.0->ny_artsy_date) (2.10.0)\n",
      "Requirement already satisfied: setuptools>=18.5 in /Users/ConnieXu/Library/Caches/pypoetry/virtualenvs/ny-artsy-date-Bd2ND-kG-py3.9/lib/python3.9/site-packages (from ipython>=5.3.0->gmaps<0.10.0,>=0.9.0->ny_artsy_date) (58.0.4)\n",
      "Requirement already satisfied: pexpect>4.3 in /Users/ConnieXu/Library/Caches/pypoetry/virtualenvs/ny-artsy-date-Bd2ND-kG-py3.9/lib/python3.9/site-packages (from ipython>=5.3.0->gmaps<0.10.0,>=0.9.0->ny_artsy_date) (4.8.0)\n",
      "Requirement already satisfied: appnope in /Users/ConnieXu/Library/Caches/pypoetry/virtualenvs/ny-artsy-date-Bd2ND-kG-py3.9/lib/python3.9/site-packages (from ipython>=5.3.0->gmaps<0.10.0,>=0.9.0->ny_artsy_date) (0.1.2)\n",
      "Requirement already satisfied: jedi>=0.16 in /Users/ConnieXu/Library/Caches/pypoetry/virtualenvs/ny-artsy-date-Bd2ND-kG-py3.9/lib/python3.9/site-packages (from ipython>=5.3.0->gmaps<0.10.0,>=0.9.0->ny_artsy_date) (0.18.1)\n",
      "Requirement already satisfied: matplotlib-inline in /Users/ConnieXu/Library/Caches/pypoetry/virtualenvs/ny-artsy-date-Bd2ND-kG-py3.9/lib/python3.9/site-packages (from ipython>=5.3.0->gmaps<0.10.0,>=0.9.0->ny_artsy_date) (0.1.3)\n",
      "Requirement already satisfied: decorator in /Users/ConnieXu/Library/Caches/pypoetry/virtualenvs/ny-artsy-date-Bd2ND-kG-py3.9/lib/python3.9/site-packages (from ipython>=5.3.0->gmaps<0.10.0,>=0.9.0->ny_artsy_date) (5.1.0)\n",
      "Requirement already satisfied: widgetsnbextension~=3.5.0 in /Users/ConnieXu/Library/Caches/pypoetry/virtualenvs/ny-artsy-date-Bd2ND-kG-py3.9/lib/python3.9/site-packages (from ipywidgets>=7.0.0->gmaps<0.10.0,>=0.9.0->ny_artsy_date) (3.5.2)\n",
      "Requirement already satisfied: ipython-genutils~=0.2.0 in /Users/ConnieXu/Library/Caches/pypoetry/virtualenvs/ny-artsy-date-Bd2ND-kG-py3.9/lib/python3.9/site-packages (from ipywidgets>=7.0.0->gmaps<0.10.0,>=0.9.0->ny_artsy_date) (0.2.0)\n",
      "Requirement already satisfied: ipykernel>=4.5.1 in /Users/ConnieXu/Library/Caches/pypoetry/virtualenvs/ny-artsy-date-Bd2ND-kG-py3.9/lib/python3.9/site-packages (from ipywidgets>=7.0.0->gmaps<0.10.0,>=0.9.0->ny_artsy_date) (6.6.0)\n",
      "Requirement already satisfied: jupyterlab-widgets>=1.0.0 in /Users/ConnieXu/Library/Caches/pypoetry/virtualenvs/ny-artsy-date-Bd2ND-kG-py3.9/lib/python3.9/site-packages (from ipywidgets>=7.0.0->gmaps<0.10.0,>=0.9.0->ny_artsy_date) (1.0.2)\n",
      "Requirement already satisfied: nbformat>=4.2.0 in /Users/ConnieXu/Library/Caches/pypoetry/virtualenvs/ny-artsy-date-Bd2ND-kG-py3.9/lib/python3.9/site-packages (from ipywidgets>=7.0.0->gmaps<0.10.0,>=0.9.0->ny_artsy_date) (5.1.3)\n",
      "Requirement already satisfied: debugpy<2.0,>=1.0.0 in /Users/ConnieXu/Library/Caches/pypoetry/virtualenvs/ny-artsy-date-Bd2ND-kG-py3.9/lib/python3.9/site-packages (from ipykernel>=4.5.1->ipywidgets>=7.0.0->gmaps<0.10.0,>=0.9.0->ny_artsy_date) (1.5.1)\n",
      "Requirement already satisfied: tornado<7.0,>=4.2 in /Users/ConnieXu/Library/Caches/pypoetry/virtualenvs/ny-artsy-date-Bd2ND-kG-py3.9/lib/python3.9/site-packages (from ipykernel>=4.5.1->ipywidgets>=7.0.0->gmaps<0.10.0,>=0.9.0->ny_artsy_date) (6.1)\n",
      "Requirement already satisfied: jupyter-client<8.0 in /Users/ConnieXu/Library/Caches/pypoetry/virtualenvs/ny-artsy-date-Bd2ND-kG-py3.9/lib/python3.9/site-packages (from ipykernel>=4.5.1->ipywidgets>=7.0.0->gmaps<0.10.0,>=0.9.0->ny_artsy_date) (7.1.0)\n",
      "Requirement already satisfied: parso<0.9.0,>=0.8.0 in /Users/ConnieXu/Library/Caches/pypoetry/virtualenvs/ny-artsy-date-Bd2ND-kG-py3.9/lib/python3.9/site-packages (from jedi>=0.16->ipython>=5.3.0->gmaps<0.10.0,>=0.9.0->ny_artsy_date) (0.8.3)\n",
      "Requirement already satisfied: pyzmq>=13 in /Users/ConnieXu/Library/Caches/pypoetry/virtualenvs/ny-artsy-date-Bd2ND-kG-py3.9/lib/python3.9/site-packages (from jupyter-client<8.0->ipykernel>=4.5.1->ipywidgets>=7.0.0->gmaps<0.10.0,>=0.9.0->ny_artsy_date) (22.3.0)\n",
      "Requirement already satisfied: entrypoints in /Users/ConnieXu/Library/Caches/pypoetry/virtualenvs/ny-artsy-date-Bd2ND-kG-py3.9/lib/python3.9/site-packages (from jupyter-client<8.0->ipykernel>=4.5.1->ipywidgets>=7.0.0->gmaps<0.10.0,>=0.9.0->ny_artsy_date) (0.3)\n",
      "Requirement already satisfied: python-dateutil>=2.1 in /Users/ConnieXu/Library/Caches/pypoetry/virtualenvs/ny-artsy-date-Bd2ND-kG-py3.9/lib/python3.9/site-packages (from jupyter-client<8.0->ipykernel>=4.5.1->ipywidgets>=7.0.0->gmaps<0.10.0,>=0.9.0->ny_artsy_date) (2.8.2)\n",
      "Requirement already satisfied: nest-asyncio>=1.5 in /Users/ConnieXu/Library/Caches/pypoetry/virtualenvs/ny-artsy-date-Bd2ND-kG-py3.9/lib/python3.9/site-packages (from jupyter-client<8.0->ipykernel>=4.5.1->ipywidgets>=7.0.0->gmaps<0.10.0,>=0.9.0->ny_artsy_date) (1.5.4)\n",
      "Requirement already satisfied: jupyter-core>=4.6.0 in /Users/ConnieXu/Library/Caches/pypoetry/virtualenvs/ny-artsy-date-Bd2ND-kG-py3.9/lib/python3.9/site-packages (from jupyter-client<8.0->ipykernel>=4.5.1->ipywidgets>=7.0.0->gmaps<0.10.0,>=0.9.0->ny_artsy_date) (4.9.1)\n",
      "Requirement already satisfied: jsonschema!=2.5.0,>=2.4 in /Users/ConnieXu/Library/Caches/pypoetry/virtualenvs/ny-artsy-date-Bd2ND-kG-py3.9/lib/python3.9/site-packages (from nbformat>=4.2.0->ipywidgets>=7.0.0->gmaps<0.10.0,>=0.9.0->ny_artsy_date) (4.3.0)\n"
     ]
    },
    {
     "name": "stdout",
     "output_type": "stream",
     "text": [
      "Requirement already satisfied: pyrsistent!=0.17.0,!=0.17.1,!=0.17.2,>=0.14.0 in /Users/ConnieXu/Library/Caches/pypoetry/virtualenvs/ny-artsy-date-Bd2ND-kG-py3.9/lib/python3.9/site-packages (from jsonschema!=2.5.0,>=2.4->nbformat>=4.2.0->ipywidgets>=7.0.0->gmaps<0.10.0,>=0.9.0->ny_artsy_date) (0.18.0)\n",
      "Requirement already satisfied: attrs>=17.4.0 in /Users/ConnieXu/Library/Caches/pypoetry/virtualenvs/ny-artsy-date-Bd2ND-kG-py3.9/lib/python3.9/site-packages (from jsonschema!=2.5.0,>=2.4->nbformat>=4.2.0->ipywidgets>=7.0.0->gmaps<0.10.0,>=0.9.0->ny_artsy_date) (21.2.0)\n",
      "Requirement already satisfied: pytz>=2017.3 in /Users/ConnieXu/Library/Caches/pypoetry/virtualenvs/ny-artsy-date-Bd2ND-kG-py3.9/lib/python3.9/site-packages (from pandas<2.0.0,>=1.3.5->ny_artsy_date) (2021.3)\n",
      "Requirement already satisfied: ptyprocess>=0.5 in /Users/ConnieXu/Library/Caches/pypoetry/virtualenvs/ny-artsy-date-Bd2ND-kG-py3.9/lib/python3.9/site-packages (from pexpect>4.3->ipython>=5.3.0->gmaps<0.10.0,>=0.9.0->ny_artsy_date) (0.7.0)\n",
      "Requirement already satisfied: wcwidth in /Users/ConnieXu/Library/Caches/pypoetry/virtualenvs/ny-artsy-date-Bd2ND-kG-py3.9/lib/python3.9/site-packages (from prompt-toolkit!=3.0.0,!=3.0.1,<3.1.0,>=2.0.0->ipython>=5.3.0->gmaps<0.10.0,>=0.9.0->ny_artsy_date) (0.2.5)\n",
      "Requirement already satisfied: iniconfig in /Users/ConnieXu/Library/Caches/pypoetry/virtualenvs/ny-artsy-date-Bd2ND-kG-py3.9/lib/python3.9/site-packages (from pytest<7.0.0,>=6.2.5->ny_artsy_date) (1.1.1)\n",
      "Requirement already satisfied: pluggy<2.0,>=0.12 in /Users/ConnieXu/Library/Caches/pypoetry/virtualenvs/ny-artsy-date-Bd2ND-kG-py3.9/lib/python3.9/site-packages (from pytest<7.0.0,>=6.2.5->ny_artsy_date) (1.0.0)\n",
      "Requirement already satisfied: py>=1.8.2 in /Users/ConnieXu/Library/Caches/pypoetry/virtualenvs/ny-artsy-date-Bd2ND-kG-py3.9/lib/python3.9/site-packages (from pytest<7.0.0,>=6.2.5->ny_artsy_date) (1.11.0)\n",
      "Requirement already satisfied: packaging in /Users/ConnieXu/Library/Caches/pypoetry/virtualenvs/ny-artsy-date-Bd2ND-kG-py3.9/lib/python3.9/site-packages (from pytest<7.0.0,>=6.2.5->ny_artsy_date) (21.3)\n",
      "Requirement already satisfied: toml in /Users/ConnieXu/Library/Caches/pypoetry/virtualenvs/ny-artsy-date-Bd2ND-kG-py3.9/lib/python3.9/site-packages (from pytest<7.0.0,>=6.2.5->ny_artsy_date) (0.10.2)\n",
      "Requirement already satisfied: coverage[toml]>=5.2.1 in /Users/ConnieXu/Library/Caches/pypoetry/virtualenvs/ny-artsy-date-Bd2ND-kG-py3.9/lib/python3.9/site-packages (from pytest-cov<4.0.0,>=3.0.0->ny_artsy_date) (6.2)\n",
      "Requirement already satisfied: tomli in /Users/ConnieXu/Library/Caches/pypoetry/virtualenvs/ny-artsy-date-Bd2ND-kG-py3.9/lib/python3.9/site-packages (from coverage[toml]>=5.2.1->pytest-cov<4.0.0,>=3.0.0->ny_artsy_date) (2.0.0)\n",
      "Requirement already satisfied: urllib3<1.27,>=1.21.1 in /Users/ConnieXu/Library/Caches/pypoetry/virtualenvs/ny-artsy-date-Bd2ND-kG-py3.9/lib/python3.9/site-packages (from requests<3.0.0,>=2.26.0->ny_artsy_date) (1.26.7)\n",
      "Requirement already satisfied: certifi>=2017.4.17 in /Users/ConnieXu/Library/Caches/pypoetry/virtualenvs/ny-artsy-date-Bd2ND-kG-py3.9/lib/python3.9/site-packages (from requests<3.0.0,>=2.26.0->ny_artsy_date) (2021.10.8)\n",
      "Requirement already satisfied: idna<4,>=2.5 in /Users/ConnieXu/Library/Caches/pypoetry/virtualenvs/ny-artsy-date-Bd2ND-kG-py3.9/lib/python3.9/site-packages (from requests<3.0.0,>=2.26.0->ny_artsy_date) (3.3)\n",
      "Requirement already satisfied: charset-normalizer~=2.0.0 in /Users/ConnieXu/Library/Caches/pypoetry/virtualenvs/ny-artsy-date-Bd2ND-kG-py3.9/lib/python3.9/site-packages (from requests<3.0.0,>=2.26.0->ny_artsy_date) (2.0.9)\n",
      "Requirement already satisfied: notebook>=4.4.1 in /Users/ConnieXu/Library/Caches/pypoetry/virtualenvs/ny-artsy-date-Bd2ND-kG-py3.9/lib/python3.9/site-packages (from widgetsnbextension~=3.5.0->ipywidgets>=7.0.0->gmaps<0.10.0,>=0.9.0->ny_artsy_date) (6.4.6)\n",
      "Requirement already satisfied: nbconvert in /Users/ConnieXu/Library/Caches/pypoetry/virtualenvs/ny-artsy-date-Bd2ND-kG-py3.9/lib/python3.9/site-packages (from notebook>=4.4.1->widgetsnbextension~=3.5.0->ipywidgets>=7.0.0->gmaps<0.10.0,>=0.9.0->ny_artsy_date) (6.3.0)\n",
      "Requirement already satisfied: jinja2 in /Users/ConnieXu/Library/Caches/pypoetry/virtualenvs/ny-artsy-date-Bd2ND-kG-py3.9/lib/python3.9/site-packages (from notebook>=4.4.1->widgetsnbextension~=3.5.0->ipywidgets>=7.0.0->gmaps<0.10.0,>=0.9.0->ny_artsy_date) (3.0.3)\n",
      "Requirement already satisfied: terminado>=0.8.3 in /Users/ConnieXu/Library/Caches/pypoetry/virtualenvs/ny-artsy-date-Bd2ND-kG-py3.9/lib/python3.9/site-packages (from notebook>=4.4.1->widgetsnbextension~=3.5.0->ipywidgets>=7.0.0->gmaps<0.10.0,>=0.9.0->ny_artsy_date) (0.12.1)\n",
      "Requirement already satisfied: prometheus-client in /Users/ConnieXu/Library/Caches/pypoetry/virtualenvs/ny-artsy-date-Bd2ND-kG-py3.9/lib/python3.9/site-packages (from notebook>=4.4.1->widgetsnbextension~=3.5.0->ipywidgets>=7.0.0->gmaps<0.10.0,>=0.9.0->ny_artsy_date) (0.12.0)\n",
      "Requirement already satisfied: Send2Trash>=1.8.0 in /Users/ConnieXu/Library/Caches/pypoetry/virtualenvs/ny-artsy-date-Bd2ND-kG-py3.9/lib/python3.9/site-packages (from notebook>=4.4.1->widgetsnbextension~=3.5.0->ipywidgets>=7.0.0->gmaps<0.10.0,>=0.9.0->ny_artsy_date) (1.8.0)\n",
      "Requirement already satisfied: argon2-cffi in /Users/ConnieXu/Library/Caches/pypoetry/virtualenvs/ny-artsy-date-Bd2ND-kG-py3.9/lib/python3.9/site-packages (from notebook>=4.4.1->widgetsnbextension~=3.5.0->ipywidgets>=7.0.0->gmaps<0.10.0,>=0.9.0->ny_artsy_date) (21.3.0)\n",
      "Requirement already satisfied: argon2-cffi-bindings in /Users/ConnieXu/Library/Caches/pypoetry/virtualenvs/ny-artsy-date-Bd2ND-kG-py3.9/lib/python3.9/site-packages (from argon2-cffi->notebook>=4.4.1->widgetsnbextension~=3.5.0->ipywidgets>=7.0.0->gmaps<0.10.0,>=0.9.0->ny_artsy_date) (21.2.0)\n",
      "Requirement already satisfied: cffi>=1.0.1 in /Users/ConnieXu/Library/Caches/pypoetry/virtualenvs/ny-artsy-date-Bd2ND-kG-py3.9/lib/python3.9/site-packages (from argon2-cffi-bindings->argon2-cffi->notebook>=4.4.1->widgetsnbextension~=3.5.0->ipywidgets>=7.0.0->gmaps<0.10.0,>=0.9.0->ny_artsy_date) (1.15.0)\n",
      "Requirement already satisfied: pycparser in /Users/ConnieXu/Library/Caches/pypoetry/virtualenvs/ny-artsy-date-Bd2ND-kG-py3.9/lib/python3.9/site-packages (from cffi>=1.0.1->argon2-cffi-bindings->argon2-cffi->notebook>=4.4.1->widgetsnbextension~=3.5.0->ipywidgets>=7.0.0->gmaps<0.10.0,>=0.9.0->ny_artsy_date) (2.21)\n",
      "Requirement already satisfied: MarkupSafe>=2.0 in /Users/ConnieXu/Library/Caches/pypoetry/virtualenvs/ny-artsy-date-Bd2ND-kG-py3.9/lib/python3.9/site-packages (from jinja2->notebook>=4.4.1->widgetsnbextension~=3.5.0->ipywidgets>=7.0.0->gmaps<0.10.0,>=0.9.0->ny_artsy_date) (2.0.1)\n",
      "Requirement already satisfied: defusedxml in /Users/ConnieXu/Library/Caches/pypoetry/virtualenvs/ny-artsy-date-Bd2ND-kG-py3.9/lib/python3.9/site-packages (from nbconvert->notebook>=4.4.1->widgetsnbextension~=3.5.0->ipywidgets>=7.0.0->gmaps<0.10.0,>=0.9.0->ny_artsy_date) (0.7.1)\n",
      "Requirement already satisfied: nbclient<0.6.0,>=0.5.0 in /Users/ConnieXu/Library/Caches/pypoetry/virtualenvs/ny-artsy-date-Bd2ND-kG-py3.9/lib/python3.9/site-packages (from nbconvert->notebook>=4.4.1->widgetsnbextension~=3.5.0->ipywidgets>=7.0.0->gmaps<0.10.0,>=0.9.0->ny_artsy_date) (0.5.9)\n",
      "Requirement already satisfied: pandocfilters>=1.4.1 in /Users/ConnieXu/Library/Caches/pypoetry/virtualenvs/ny-artsy-date-Bd2ND-kG-py3.9/lib/python3.9/site-packages (from nbconvert->notebook>=4.4.1->widgetsnbextension~=3.5.0->ipywidgets>=7.0.0->gmaps<0.10.0,>=0.9.0->ny_artsy_date) (1.5.0)\n",
      "Requirement already satisfied: bleach in /Users/ConnieXu/Library/Caches/pypoetry/virtualenvs/ny-artsy-date-Bd2ND-kG-py3.9/lib/python3.9/site-packages (from nbconvert->notebook>=4.4.1->widgetsnbextension~=3.5.0->ipywidgets>=7.0.0->gmaps<0.10.0,>=0.9.0->ny_artsy_date) (4.1.0)\n",
      "Requirement already satisfied: testpath in /Users/ConnieXu/Library/Caches/pypoetry/virtualenvs/ny-artsy-date-Bd2ND-kG-py3.9/lib/python3.9/site-packages (from nbconvert->notebook>=4.4.1->widgetsnbextension~=3.5.0->ipywidgets>=7.0.0->gmaps<0.10.0,>=0.9.0->ny_artsy_date) (0.5.0)\n",
      "Requirement already satisfied: mistune<2,>=0.8.1 in /Users/ConnieXu/Library/Caches/pypoetry/virtualenvs/ny-artsy-date-Bd2ND-kG-py3.9/lib/python3.9/site-packages (from nbconvert->notebook>=4.4.1->widgetsnbextension~=3.5.0->ipywidgets>=7.0.0->gmaps<0.10.0,>=0.9.0->ny_artsy_date) (0.8.4)\n",
      "Requirement already satisfied: jupyterlab-pygments in /Users/ConnieXu/Library/Caches/pypoetry/virtualenvs/ny-artsy-date-Bd2ND-kG-py3.9/lib/python3.9/site-packages (from nbconvert->notebook>=4.4.1->widgetsnbextension~=3.5.0->ipywidgets>=7.0.0->gmaps<0.10.0,>=0.9.0->ny_artsy_date) (0.1.2)\n"
     ]
    },
    {
     "name": "stdout",
     "output_type": "stream",
     "text": [
      "Requirement already satisfied: webencodings in /Users/ConnieXu/Library/Caches/pypoetry/virtualenvs/ny-artsy-date-Bd2ND-kG-py3.9/lib/python3.9/site-packages (from bleach->nbconvert->notebook>=4.4.1->widgetsnbextension~=3.5.0->ipywidgets>=7.0.0->gmaps<0.10.0,>=0.9.0->ny_artsy_date) (0.5.1)\n",
      "Requirement already satisfied: pyparsing!=3.0.5,>=2.0.2 in /Users/ConnieXu/Library/Caches/pypoetry/virtualenvs/ny-artsy-date-Bd2ND-kG-py3.9/lib/python3.9/site-packages (from packaging->pytest<7.0.0,>=6.2.5->ny_artsy_date) (3.0.6)\n",
      "\u001b[33mWARNING: You are using pip version 21.2.4; however, version 21.3.1 is available.\n",
      "You should consider upgrading via the '/Users/ConnieXu/Library/Caches/pypoetry/virtualenvs/ny-artsy-date-Bd2ND-kG-py3.9/bin/python3.9 -m pip install --upgrade pip' command.\u001b[0m\n"
     ]
    }
   ],
   "source": [
    "!python3.9 -m pip install -i https://test.pypi.org/pypi/ --extra-index-url https://pypi.org/simple/ ny_artsy_date\n",
    "import sys\n",
    "sys.path.append('/usr/local/lib/python3.9/site-packages/')\n",
    "from ny_artsy_date import ny_artsy_date as nydate"
   ]
  },
  {
   "cell_type": "markdown",
   "metadata": {},
   "source": [
    "## General Usage"
   ]
  },
  {
   "cell_type": "markdown",
   "metadata": {},
   "source": [
    "The functions within (in particular, `find_my_art_events` and `choose_my_art_date`) only work for locations in the New York Metro area. "
   ]
  },
  {
   "cell_type": "code",
   "execution_count": 5,
   "metadata": {},
   "outputs": [],
   "source": [
    "import os\n",
    "API_KEY = os.getenv('POETRY_GMAPS_TOKEN')"
   ]
  },
  {
   "cell_type": "markdown",
   "metadata": {},
   "source": [
    "Each function also includes docstrings, which can be accessed through the use of the `help` function. "
   ]
  },
  {
   "cell_type": "code",
   "execution_count": 3,
   "metadata": {},
   "outputs": [
    {
     "name": "stdout",
     "output_type": "stream",
     "text": [
      "Help on function find_my_art_events in module ny_artsy_date.ny_artsy_date:\n",
      "\n",
      "find_my_art_events(my_location=None, google_maps_key=None, lat=None, lon=None, free_only=0, max_results=10, search_range='500m', mapping=False)\n",
      "    Function to obtain art events data in the NY Metro area near a specified location (address OR latitude and longitude format), \n",
      "    using the NY ArtBeat API found at https://www.nyartbeat.com/resources/doc/api. Returns table with events matching a specified radius \n",
      "    from a specified location as well as map if requested. \n",
      "        \n",
      "        Args\n",
      "        ----\n",
      "        Required: \n",
      "            my_location(str): Address starting point - Must be within NYC Metro Location\n",
      "                Default: None\n",
      "            google_maps_key (str): Google maps API key needed to geocode your location \n",
      "                To obtain a google maps API key, please refer to https://developers.google.com/maps\n",
      "                Default: None, OR \n",
      "            lat(float): Latitude of starting point - Must be within NYC Metro Location \n",
      "                Default: None            \n",
      "            lon(float): Longitude of starting point - Must be within NYC Metro Location \n",
      "                Default: None            \n",
      "        Optional:\n",
      "            google_maps_key (str): Google maps API key needed to geocode your location OPTIONAL if you have lat-lon location data\n",
      "                To obtain a google maps API key, please refer to https://developers.google.com/maps\n",
      "                Default: None\n",
      "            free_only(bool): Boolean param specifying whether to only return free events \n",
      "                Default: False or 0\n",
      "            max_results(int): Max results to be returned in Query - can be 5, 10, 20, 50 \n",
      "                Default: 10\n",
      "            search_range(str/float): distance (in meters) from location for events queried - can be '500m',\"1000m\",\"1500m\",\"3000m\"\n",
      "                Default: 500m\n",
      "            mapping(bool): Boolean param specifying whether user wants a simple interactive map returned of matching locations\n",
      "    \n",
      "        Returns\n",
      "        ---\n",
      "        DataFrame with [max_results] art events in the New York Metro area in the [radius] of the [specified location]\n",
      "            Fields: \n",
      "                Event_Name(str): Name of Event \n",
      "                Event_Description(str): Details about event\n",
      "                Event_Price_Adult(float): Price for tickets\n",
      "                Event_Price_Detailed(str)): Price for tickets (detailed info)\n",
      "                DateEnd(date): Last date for exhibit or installation\n",
      "                Event_Lat(float): Latitude of event \n",
      "                Event_Lon(float): Longitude of event\n",
      "                Event_Address(str): Address for event - requires geocoding; google maps key (above).       \n",
      "        Map (Optional): Interactive Google Maps Output with Markers for each event; Hover Text Description of Event  \n",
      "      \n",
      "        Usage Example\n",
      "        ---\n",
      "        [in]: \n",
      "            find_my_art_events(lat = 40.78, lon = -73.96, search_range = '3000m', max_results = 5)     \n",
      "        [out]: \n",
      "            df \n",
      "            | Event_Name | Event_Description         | Price      | DateEnd | Distance | Latitude | Longitude | Event_Address                 | \n",
      "            |------------|---------------------------|------------|---------|----------|----------|-----------|-------------------------------|\n",
      "            | The..      | The Costume Institute’s...| Adults $25 | 2022-09 |    90.158|    40.779|    -73.96 | 1005 5th Ave, New York...     |\n",
      "        [out]: \n",
      "            Interactive Map\n",
      "\n"
     ]
    }
   ],
   "source": [
    "help(nydate.find_my_art_events)"
   ]
  },
  {
   "cell_type": "markdown",
   "metadata": {},
   "source": [
    "## Functions "
   ]
  },
  {
   "cell_type": "markdown",
   "metadata": {},
   "source": [
    "This section includes a description, discusssion of input variables, and use case examples. **Unless specified otherwise, please follow the syntax within and make sure you are defining the parameters you are inputting** (e.g., `my_location = XYZ`) "
   ]
  },
  {
   "cell_type": "markdown",
   "metadata": {},
   "source": [
    "The main functions used are `find_my_art_events`, `find_my_dinner`, and `choose_my_art_date`. "
   ]
  },
  {
   "cell_type": "markdown",
   "metadata": {},
   "source": [
    "### General Parameters"
   ]
  },
  {
   "cell_type": "markdown",
   "metadata": {},
   "source": [
    "The following are the default parameters that are needed for all three functions, as the package functions are primarily based on **location** and closeness. "
   ]
  },
  {
   "cell_type": "markdown",
   "metadata": {},
   "source": [
    "* **my_location**: String data for the address of your starting point \n",
    "* **google_maps_key**: You will need to have a valid [google maps token](https://developers.google.com/maps) to access the full range of these functions, as this key allows us to: \n",
    "    * geocode our data (if you are using locational data)\n",
    "    * perform reverse geocoding functions  \n",
    "    * return nearby restaurants with Google Places\n",
    "    * map the returned points for events \n",
    "* **lon** and **lat** data of your starting point (can sometimes be used in lieu of **my_location**) "
   ]
  },
  {
   "cell_type": "markdown",
   "metadata": {},
   "source": [
    "### `find_my_art_events`"
   ]
  },
  {
   "cell_type": "markdown",
   "metadata": {},
   "source": [
    "`find_my_art_events` finds art events within a radius of a starting location using [NY Art Beats API](https://www.nyartbeat.com/resources/doc/api). In order to run this function, you need **either** **my_location** (and **google_maps_key**) or **lat** and **lon**. \n",
    "\n",
    "\n",
    "Because you can choose one or the other (or both), these arguments have no default are not required parameters. **However, failure to input eiether of these parameters will prevent this function from working.** "
   ]
  },
  {
   "cell_type": "markdown",
   "metadata": {},
   "source": [
    "Below are one basic use case with **my_location** and another with **lat and long**: "
   ]
  },
  {
   "cell_type": "code",
   "execution_count": 7,
   "metadata": {},
   "outputs": [
    {
     "data": {
      "text/html": [
       "<div>\n",
       "<style scoped>\n",
       "    .dataframe tbody tr th:only-of-type {\n",
       "        vertical-align: middle;\n",
       "    }\n",
       "\n",
       "    .dataframe tbody tr th {\n",
       "        vertical-align: top;\n",
       "    }\n",
       "\n",
       "    .dataframe thead th {\n",
       "        text-align: right;\n",
       "    }\n",
       "</style>\n",
       "<table border=\"1\" class=\"dataframe\">\n",
       "  <thead>\n",
       "    <tr style=\"text-align: right;\">\n",
       "      <th></th>\n",
       "      <th>Event_Name</th>\n",
       "      <th>Event_Description</th>\n",
       "      <th>DateEnd</th>\n",
       "      <th>Distance</th>\n",
       "      <th>Event_Lat</th>\n",
       "      <th>Event_Lon</th>\n",
       "      <th>Event_Price_Adult</th>\n",
       "      <th>url</th>\n",
       "      <th>Event_Price_Detailed</th>\n",
       "      <th>Event_Address</th>\n",
       "    </tr>\n",
       "  </thead>\n",
       "  <tbody>\n",
       "    <tr>\n",
       "      <th>0</th>\n",
       "      <td>Alteronce Gumby “On Earth as It Is in Heaven” ...</td>\n",
       "      <td>Art-in-Buildings presents two new exhibitions ...</td>\n",
       "      <td>2021-12-23</td>\n",
       "      <td>226.022773</td>\n",
       "      <td>40.706486</td>\n",
       "      <td>-74.006211</td>\n",
       "      <td></td>\n",
       "      <td>http://www.nyartbeat.com/event/2021/1424</td>\n",
       "      <td>NaN</td>\n",
       "      <td>150 Water St, New York, NY 10005, USA</td>\n",
       "    </tr>\n",
       "  </tbody>\n",
       "</table>\n",
       "</div>"
      ],
      "text/plain": [
       "                                          Event_Name  \\\n",
       "0  Alteronce Gumby “On Earth as It Is in Heaven” ...   \n",
       "\n",
       "                                   Event_Description     DateEnd    Distance  \\\n",
       "0  Art-in-Buildings presents two new exhibitions ...  2021-12-23  226.022773   \n",
       "\n",
       "   Event_Lat  Event_Lon Event_Price_Adult  \\\n",
       "0  40.706486 -74.006211                     \n",
       "\n",
       "                                        url  Event_Price_Detailed  \\\n",
       "0  http://www.nyartbeat.com/event/2021/1424                   NaN   \n",
       "\n",
       "                           Event_Address  \n",
       "0  150 Water St, New York, NY 10005, USA  "
      ]
     },
     "execution_count": 7,
     "metadata": {},
     "output_type": "execute_result"
    }
   ],
   "source": [
    "df = nydate.find_my_art_events(my_location = 'Wall Street', google_maps_key = API_KEY)\n",
    "df.head()"
   ]
  },
  {
   "cell_type": "code",
   "execution_count": 8,
   "metadata": {},
   "outputs": [
    {
     "data": {
      "text/html": [
       "<div>\n",
       "<style scoped>\n",
       "    .dataframe tbody tr th:only-of-type {\n",
       "        vertical-align: middle;\n",
       "    }\n",
       "\n",
       "    .dataframe tbody tr th {\n",
       "        vertical-align: top;\n",
       "    }\n",
       "\n",
       "    .dataframe thead th {\n",
       "        text-align: right;\n",
       "    }\n",
       "</style>\n",
       "<table border=\"1\" class=\"dataframe\">\n",
       "  <thead>\n",
       "    <tr style=\"text-align: right;\">\n",
       "      <th></th>\n",
       "      <th>Event_Name</th>\n",
       "      <th>Event_Description</th>\n",
       "      <th>DateEnd</th>\n",
       "      <th>Distance</th>\n",
       "      <th>Event_Lat</th>\n",
       "      <th>Event_Lon</th>\n",
       "      <th>Event_Price_Adult</th>\n",
       "      <th>url</th>\n",
       "      <th>Event_Price_Detailed</th>\n",
       "    </tr>\n",
       "  </thead>\n",
       "  <tbody>\n",
       "    <tr>\n",
       "      <th>0</th>\n",
       "      <td>Maria Lassnig “The Paris Years, 1960–68”</td>\n",
       "      <td>Petzel presents Maria Lassnig: The Paris Years...</td>\n",
       "      <td>2021-12-17</td>\n",
       "      <td>193.378675</td>\n",
       "      <td>40.744239</td>\n",
       "      <td>-74.005967</td>\n",
       "      <td>0</td>\n",
       "      <td>http://www.nyartbeat.com/event/2021/F832</td>\n",
       "      <td>Free</td>\n",
       "    </tr>\n",
       "    <tr>\n",
       "      <th>1</th>\n",
       "      <td>“Rested” Exhibition</td>\n",
       "      <td>Nicola Vassell Gallery presents Rested, a grou...</td>\n",
       "      <td>2022-01-08</td>\n",
       "      <td>263.887846</td>\n",
       "      <td>40.744873</td>\n",
       "      <td>-74.006051</td>\n",
       "      <td>0</td>\n",
       "      <td>http://www.nyartbeat.com/event/2021/835B</td>\n",
       "      <td>Free</td>\n",
       "    </tr>\n",
       "    <tr>\n",
       "      <th>2</th>\n",
       "      <td>Rene Ricard “Growing Up in America”</td>\n",
       "      <td>Vito Schnabel Gallery presents Rene Ricard: Gr...</td>\n",
       "      <td>2021-12-18</td>\n",
       "      <td>294.294850</td>\n",
       "      <td>40.745089</td>\n",
       "      <td>-74.005274</td>\n",
       "      <td>0</td>\n",
       "      <td>http://www.nyartbeat.com/event/2021/EB40</td>\n",
       "      <td>Free</td>\n",
       "    </tr>\n",
       "    <tr>\n",
       "      <th>3</th>\n",
       "      <td>“In Support” Exhibition</td>\n",
       "      <td>The Kitchen presents In Support, a group exhib...</td>\n",
       "      <td>2022-03-12</td>\n",
       "      <td>312.613252</td>\n",
       "      <td>40.745308</td>\n",
       "      <td>-74.006186</td>\n",
       "      <td>0</td>\n",
       "      <td>http://www.nyartbeat.com/event/2021/DC0C</td>\n",
       "      <td>Free</td>\n",
       "    </tr>\n",
       "    <tr>\n",
       "      <th>4</th>\n",
       "      <td>Neo Rauch “The Signpost”</td>\n",
       "      <td>David Zwirner presents The Signpost, an exhibi...</td>\n",
       "      <td>2021-12-18</td>\n",
       "      <td>331.544540</td>\n",
       "      <td>40.745461</td>\n",
       "      <td>-74.006464</td>\n",
       "      <td>0</td>\n",
       "      <td>http://www.nyartbeat.com/event/2021/1EE0</td>\n",
       "      <td>Free</td>\n",
       "    </tr>\n",
       "  </tbody>\n",
       "</table>\n",
       "</div>"
      ],
      "text/plain": [
       "                                 Event_Name  \\\n",
       "0  Maria Lassnig “The Paris Years, 1960–68”   \n",
       "1                       “Rested” Exhibition   \n",
       "2       Rene Ricard “Growing Up in America”   \n",
       "3                   “In Support” Exhibition   \n",
       "4                  Neo Rauch “The Signpost”   \n",
       "\n",
       "                                   Event_Description     DateEnd    Distance  \\\n",
       "0  Petzel presents Maria Lassnig: The Paris Years...  2021-12-17  193.378675   \n",
       "1  Nicola Vassell Gallery presents Rested, a grou...  2022-01-08  263.887846   \n",
       "2  Vito Schnabel Gallery presents Rene Ricard: Gr...  2021-12-18  294.294850   \n",
       "3  The Kitchen presents In Support, a group exhib...  2022-03-12  312.613252   \n",
       "4  David Zwirner presents The Signpost, an exhibi...  2021-12-18  331.544540   \n",
       "\n",
       "   Event_Lat  Event_Lon Event_Price_Adult  \\\n",
       "0  40.744239 -74.005967                 0   \n",
       "1  40.744873 -74.006051                 0   \n",
       "2  40.745089 -74.005274                 0   \n",
       "3  40.745308 -74.006186                 0   \n",
       "4  40.745461 -74.006464                 0   \n",
       "\n",
       "                                        url Event_Price_Detailed  \n",
       "0  http://www.nyartbeat.com/event/2021/F832                 Free  \n",
       "1  http://www.nyartbeat.com/event/2021/835B                 Free  \n",
       "2  http://www.nyartbeat.com/event/2021/EB40                 Free  \n",
       "3  http://www.nyartbeat.com/event/2021/DC0C                 Free  \n",
       "4  http://www.nyartbeat.com/event/2021/1EE0                 Free  "
      ]
     },
     "execution_count": 8,
     "metadata": {},
     "output_type": "execute_result"
    }
   ],
   "source": [
    "df = nydate.find_my_art_events(lat = 40.7425, lon = -74.0060)\n",
    "df.head()"
   ]
  },
  {
   "cell_type": "markdown",
   "metadata": {},
   "source": [
    "You can also refine your search, filtering for **free_only**, **search_range**, or **max_results**.\n",
    "* **free_only**: Boolean logic specifying whether the user wants only to look at free events (incl. events with suggested donations). \n",
    "* **search_range**: Specifies how far from your starting point in meters (can be \"500m\",\"1000m\",\"1500m\",\"3000m\", default at 500m). \n",
    "* **max_results**: Specifies maximum number of output you would want returned (can be 5,10,20,50, with default at 10). "
   ]
  },
  {
   "cell_type": "markdown",
   "metadata": {},
   "source": [
    "For example, in the case of chelsea market, the default (with the location and key) is as shown below:  "
   ]
  },
  {
   "cell_type": "code",
   "execution_count": 9,
   "metadata": {},
   "outputs": [
    {
     "data": {
      "text/html": [
       "<div>\n",
       "<style scoped>\n",
       "    .dataframe tbody tr th:only-of-type {\n",
       "        vertical-align: middle;\n",
       "    }\n",
       "\n",
       "    .dataframe tbody tr th {\n",
       "        vertical-align: top;\n",
       "    }\n",
       "\n",
       "    .dataframe thead th {\n",
       "        text-align: right;\n",
       "    }\n",
       "</style>\n",
       "<table border=\"1\" class=\"dataframe\">\n",
       "  <thead>\n",
       "    <tr style=\"text-align: right;\">\n",
       "      <th></th>\n",
       "      <th>Event_Name</th>\n",
       "      <th>Event_Description</th>\n",
       "      <th>DateEnd</th>\n",
       "      <th>Distance</th>\n",
       "      <th>Event_Lat</th>\n",
       "      <th>Event_Lon</th>\n",
       "      <th>Event_Price_Adult</th>\n",
       "      <th>url</th>\n",
       "      <th>Event_Price_Detailed</th>\n",
       "      <th>Event_Address</th>\n",
       "    </tr>\n",
       "  </thead>\n",
       "  <tbody>\n",
       "    <tr>\n",
       "      <th>5</th>\n",
       "      <td>Neo Rauch “The Signpost”</td>\n",
       "      <td>David Zwirner presents The Signpost, an exhibi...</td>\n",
       "      <td>2021-12-18</td>\n",
       "      <td>337.384190</td>\n",
       "      <td>40.745461</td>\n",
       "      <td>-74.006464</td>\n",
       "      <td>0</td>\n",
       "      <td>http://www.nyartbeat.com/event/2021/1EE0</td>\n",
       "      <td>Free</td>\n",
       "      <td>456 W 18th St, New York, NY 10011, USA</td>\n",
       "    </tr>\n",
       "    <tr>\n",
       "      <th>6</th>\n",
       "      <td>Portia Zvavahera “Ndakaoneswa murima”</td>\n",
       "      <td>David Zwirner presents Ndakaoneswa murima, an ...</td>\n",
       "      <td>2021-12-18</td>\n",
       "      <td>337.384190</td>\n",
       "      <td>40.745461</td>\n",
       "      <td>-74.006464</td>\n",
       "      <td>0</td>\n",
       "      <td>http://www.nyartbeat.com/event/2021/9D69</td>\n",
       "      <td>Free</td>\n",
       "      <td>456 W 18th St, New York, NY 10011, USA</td>\n",
       "    </tr>\n",
       "    <tr>\n",
       "      <th>7</th>\n",
       "      <td>“The Whitney’s Collection: Selections from 190...</td>\n",
       "      <td>This exhibition of more than 120 works, drawn ...</td>\n",
       "      <td>2022-05-07</td>\n",
       "      <td>395.154089</td>\n",
       "      <td>40.739653</td>\n",
       "      <td>-74.008850</td>\n",
       "      <td>22</td>\n",
       "      <td>http://www.nyartbeat.com/event/2020/16BE</td>\n",
       "      <td>General admission: $22; Seniors/Students: $18;...</td>\n",
       "      <td>456 W 18th St, New York, NY 10011, USA</td>\n",
       "    </tr>\n",
       "    <tr>\n",
       "      <th>8</th>\n",
       "      <td>Jasper Johns “Mind/Mirror”</td>\n",
       "      <td>The radical, inventive art of Jasper Johns (b....</td>\n",
       "      <td>2022-02-13</td>\n",
       "      <td>395.154089</td>\n",
       "      <td>40.739653</td>\n",
       "      <td>-74.008850</td>\n",
       "      <td>22</td>\n",
       "      <td>http://www.nyartbeat.com/event/2021/9034</td>\n",
       "      <td>General admission: $22; Seniors/Students: $18;...</td>\n",
       "      <td>456 W 18th St, New York, NY 10011, USA</td>\n",
       "    </tr>\n",
       "    <tr>\n",
       "      <th>9</th>\n",
       "      <td>“Labyrinth of Forms: Women and Abstraction, 19...</td>\n",
       "      <td>The Whitney Museum of American Art presents La...</td>\n",
       "      <td>2022-03-09</td>\n",
       "      <td>395.154089</td>\n",
       "      <td>40.739653</td>\n",
       "      <td>-74.008850</td>\n",
       "      <td>22</td>\n",
       "      <td>http://www.nyartbeat.com/event/2021/5819</td>\n",
       "      <td>General admission: $22; Seniors/Students: $18;...</td>\n",
       "      <td>456 W 18th St, New York, NY 10011, USA</td>\n",
       "    </tr>\n",
       "  </tbody>\n",
       "</table>\n",
       "</div>"
      ],
      "text/plain": [
       "                                          Event_Name  \\\n",
       "5                           Neo Rauch “The Signpost”   \n",
       "6              Portia Zvavahera “Ndakaoneswa murima”   \n",
       "7  “The Whitney’s Collection: Selections from 190...   \n",
       "8                         Jasper Johns “Mind/Mirror”   \n",
       "9  “Labyrinth of Forms: Women and Abstraction, 19...   \n",
       "\n",
       "                                   Event_Description     DateEnd    Distance  \\\n",
       "5  David Zwirner presents The Signpost, an exhibi...  2021-12-18  337.384190   \n",
       "6  David Zwirner presents Ndakaoneswa murima, an ...  2021-12-18  337.384190   \n",
       "7  This exhibition of more than 120 works, drawn ...  2022-05-07  395.154089   \n",
       "8  The radical, inventive art of Jasper Johns (b....  2022-02-13  395.154089   \n",
       "9  The Whitney Museum of American Art presents La...  2022-03-09  395.154089   \n",
       "\n",
       "   Event_Lat  Event_Lon Event_Price_Adult  \\\n",
       "5  40.745461 -74.006464                 0   \n",
       "6  40.745461 -74.006464                 0   \n",
       "7  40.739653 -74.008850                22   \n",
       "8  40.739653 -74.008850                22   \n",
       "9  40.739653 -74.008850                22   \n",
       "\n",
       "                                        url  \\\n",
       "5  http://www.nyartbeat.com/event/2021/1EE0   \n",
       "6  http://www.nyartbeat.com/event/2021/9D69   \n",
       "7  http://www.nyartbeat.com/event/2020/16BE   \n",
       "8  http://www.nyartbeat.com/event/2021/9034   \n",
       "9  http://www.nyartbeat.com/event/2021/5819   \n",
       "\n",
       "                                Event_Price_Detailed  \\\n",
       "5                                               Free   \n",
       "6                                               Free   \n",
       "7  General admission: $22; Seniors/Students: $18;...   \n",
       "8  General admission: $22; Seniors/Students: $18;...   \n",
       "9  General admission: $22; Seniors/Students: $18;...   \n",
       "\n",
       "                            Event_Address  \n",
       "5  456 W 18th St, New York, NY 10011, USA  \n",
       "6  456 W 18th St, New York, NY 10011, USA  \n",
       "7  456 W 18th St, New York, NY 10011, USA  \n",
       "8  456 W 18th St, New York, NY 10011, USA  \n",
       "9  456 W 18th St, New York, NY 10011, USA  "
      ]
     },
     "execution_count": 9,
     "metadata": {},
     "output_type": "execute_result"
    }
   ],
   "source": [
    "df = nydate.find_my_art_events(my_location = 'Chelsea Market', google_maps_key = API_KEY)\n",
    "df.tail()"
   ]
  },
  {
   "cell_type": "markdown",
   "metadata": {},
   "source": [
    "As we can see from the **Event_Price_Adult** and **Event_Price_Detailed** columns, specifying `free_only` as True or as 1 will filter out results that are not free. "
   ]
  },
  {
   "cell_type": "code",
   "execution_count": 10,
   "metadata": {},
   "outputs": [
    {
     "data": {
      "text/html": [
       "<div>\n",
       "<style scoped>\n",
       "    .dataframe tbody tr th:only-of-type {\n",
       "        vertical-align: middle;\n",
       "    }\n",
       "\n",
       "    .dataframe tbody tr th {\n",
       "        vertical-align: top;\n",
       "    }\n",
       "\n",
       "    .dataframe thead th {\n",
       "        text-align: right;\n",
       "    }\n",
       "</style>\n",
       "<table border=\"1\" class=\"dataframe\">\n",
       "  <thead>\n",
       "    <tr style=\"text-align: right;\">\n",
       "      <th></th>\n",
       "      <th>Event_Name</th>\n",
       "      <th>Event_Description</th>\n",
       "      <th>DateEnd</th>\n",
       "      <th>Distance</th>\n",
       "      <th>Event_Lat</th>\n",
       "      <th>Event_Lon</th>\n",
       "      <th>Event_Price_Adult</th>\n",
       "      <th>url</th>\n",
       "      <th>Event_Price_Detailed</th>\n",
       "      <th>Event_Address</th>\n",
       "    </tr>\n",
       "  </thead>\n",
       "  <tbody>\n",
       "    <tr>\n",
       "      <th>0</th>\n",
       "      <td>Maria Lassnig “The Paris Years, 1960–68”</td>\n",
       "      <td>Petzel presents Maria Lassnig: The Paris Years...</td>\n",
       "      <td>2021-12-17</td>\n",
       "      <td>198.808432</td>\n",
       "      <td>40.744239</td>\n",
       "      <td>-74.005967</td>\n",
       "      <td>0</td>\n",
       "      <td>http://www.nyartbeat.com/event/2021/F832</td>\n",
       "      <td>Free</td>\n",
       "      <td>456 W 18th St, New York, NY 10011, USA</td>\n",
       "    </tr>\n",
       "    <tr>\n",
       "      <th>1</th>\n",
       "      <td>“Rested” Exhibition</td>\n",
       "      <td>Nicola Vassell Gallery presents Rested, a grou...</td>\n",
       "      <td>2022-01-08</td>\n",
       "      <td>269.415103</td>\n",
       "      <td>40.744873</td>\n",
       "      <td>-74.006051</td>\n",
       "      <td>0</td>\n",
       "      <td>http://www.nyartbeat.com/event/2021/835B</td>\n",
       "      <td>Free</td>\n",
       "      <td>456 W 18th St, New York, NY 10011, USA</td>\n",
       "    </tr>\n",
       "    <tr>\n",
       "      <th>2</th>\n",
       "      <td>Rene Ricard “Growing Up in America”</td>\n",
       "      <td>Vito Schnabel Gallery presents Rene Ricard: Gr...</td>\n",
       "      <td>2021-12-18</td>\n",
       "      <td>298.924224</td>\n",
       "      <td>40.745089</td>\n",
       "      <td>-74.005274</td>\n",
       "      <td>0</td>\n",
       "      <td>http://www.nyartbeat.com/event/2021/EB40</td>\n",
       "      <td>Free</td>\n",
       "      <td>456 W 18th St, New York, NY 10011, USA</td>\n",
       "    </tr>\n",
       "    <tr>\n",
       "      <th>3</th>\n",
       "      <td>“In Support” Exhibition</td>\n",
       "      <td>The Kitchen presents In Support, a group exhib...</td>\n",
       "      <td>2022-03-12</td>\n",
       "      <td>318.248758</td>\n",
       "      <td>40.745308</td>\n",
       "      <td>-74.006186</td>\n",
       "      <td>0</td>\n",
       "      <td>http://www.nyartbeat.com/event/2021/DC0C</td>\n",
       "      <td>Free</td>\n",
       "      <td>456 W 18th St, New York, NY 10011, USA</td>\n",
       "    </tr>\n",
       "    <tr>\n",
       "      <th>5</th>\n",
       "      <td>Neo Rauch “The Signpost”</td>\n",
       "      <td>David Zwirner presents The Signpost, an exhibi...</td>\n",
       "      <td>2021-12-18</td>\n",
       "      <td>337.384190</td>\n",
       "      <td>40.745461</td>\n",
       "      <td>-74.006464</td>\n",
       "      <td>0</td>\n",
       "      <td>http://www.nyartbeat.com/event/2021/1EE0</td>\n",
       "      <td>Free</td>\n",
       "      <td>456 W 18th St, New York, NY 10011, USA</td>\n",
       "    </tr>\n",
       "    <tr>\n",
       "      <th>6</th>\n",
       "      <td>Portia Zvavahera “Ndakaoneswa murima”</td>\n",
       "      <td>David Zwirner presents Ndakaoneswa murima, an ...</td>\n",
       "      <td>2021-12-18</td>\n",
       "      <td>337.384190</td>\n",
       "      <td>40.745461</td>\n",
       "      <td>-74.006464</td>\n",
       "      <td>0</td>\n",
       "      <td>http://www.nyartbeat.com/event/2021/9D69</td>\n",
       "      <td>Free</td>\n",
       "      <td>456 W 18th St, New York, NY 10011, USA</td>\n",
       "    </tr>\n",
       "  </tbody>\n",
       "</table>\n",
       "</div>"
      ],
      "text/plain": [
       "                                 Event_Name  \\\n",
       "0  Maria Lassnig “The Paris Years, 1960–68”   \n",
       "1                       “Rested” Exhibition   \n",
       "2       Rene Ricard “Growing Up in America”   \n",
       "3                   “In Support” Exhibition   \n",
       "5                  Neo Rauch “The Signpost”   \n",
       "6     Portia Zvavahera “Ndakaoneswa murima”   \n",
       "\n",
       "                                   Event_Description     DateEnd    Distance  \\\n",
       "0  Petzel presents Maria Lassnig: The Paris Years...  2021-12-17  198.808432   \n",
       "1  Nicola Vassell Gallery presents Rested, a grou...  2022-01-08  269.415103   \n",
       "2  Vito Schnabel Gallery presents Rene Ricard: Gr...  2021-12-18  298.924224   \n",
       "3  The Kitchen presents In Support, a group exhib...  2022-03-12  318.248758   \n",
       "5  David Zwirner presents The Signpost, an exhibi...  2021-12-18  337.384190   \n",
       "6  David Zwirner presents Ndakaoneswa murima, an ...  2021-12-18  337.384190   \n",
       "\n",
       "   Event_Lat  Event_Lon Event_Price_Adult  \\\n",
       "0  40.744239 -74.005967                 0   \n",
       "1  40.744873 -74.006051                 0   \n",
       "2  40.745089 -74.005274                 0   \n",
       "3  40.745308 -74.006186                 0   \n",
       "5  40.745461 -74.006464                 0   \n",
       "6  40.745461 -74.006464                 0   \n",
       "\n",
       "                                        url Event_Price_Detailed  \\\n",
       "0  http://www.nyartbeat.com/event/2021/F832                 Free   \n",
       "1  http://www.nyartbeat.com/event/2021/835B                 Free   \n",
       "2  http://www.nyartbeat.com/event/2021/EB40                 Free   \n",
       "3  http://www.nyartbeat.com/event/2021/DC0C                 Free   \n",
       "5  http://www.nyartbeat.com/event/2021/1EE0                 Free   \n",
       "6  http://www.nyartbeat.com/event/2021/9D69                 Free   \n",
       "\n",
       "                            Event_Address  \n",
       "0  456 W 18th St, New York, NY 10011, USA  \n",
       "1  456 W 18th St, New York, NY 10011, USA  \n",
       "2  456 W 18th St, New York, NY 10011, USA  \n",
       "3  456 W 18th St, New York, NY 10011, USA  \n",
       "5  456 W 18th St, New York, NY 10011, USA  \n",
       "6  456 W 18th St, New York, NY 10011, USA  "
      ]
     },
     "execution_count": 10,
     "metadata": {},
     "output_type": "execute_result"
    }
   ],
   "source": [
    "df = nydate.find_my_art_events(my_location = 'Chelsea Market', google_maps_key = API_KEY, free_only = 1)\n",
    "df"
   ]
  },
  {
   "cell_type": "markdown",
   "metadata": {},
   "source": [
    "Meanwhile, we can see that the max number of results is actually much closer than 20 than 10 with the default radius and address - when setting the max results to 50, we can see far more rows iin the df. "
   ]
  },
  {
   "cell_type": "code",
   "execution_count": null,
   "metadata": {},
   "outputs": [],
   "source": [
    "df = nydate.find_my_art_events(my_location = 'Chelsea Market', google_maps_key = API_KEY, max_results = 50)\n",
    "df.tail()"
   ]
  },
  {
   "cell_type": "markdown",
   "metadata": {},
   "source": [
    "The number of observations often also increases as we increase the radius or the `search_range` parameter. "
   ]
  },
  {
   "cell_type": "code",
   "execution_count": null,
   "metadata": {},
   "outputs": [],
   "source": [
    "df = nydate.find_my_art_events(my_location = 'Chelsea Market', google_maps_key = API_KEY, search_range = 1000, max_results=50)\n",
    "df.tail()"
   ]
  },
  {
   "cell_type": "markdown",
   "metadata": {},
   "source": [
    "### `find_my_dinner`"
   ]
  },
  {
   "cell_type": "markdown",
   "metadata": {},
   "source": [
    "This function can be used alone *or* in tandem with `find_my_art_events`. By inputting a starting point (either your home, a meeting place, or the art event the user went to earlier in the day), the user can return a data table with relevant information about dinner places within a specified search radius from [Google Places (Google Maps API)](https://developers.google.com/maps/documentation/places/web-service/overview)\n"
   ]
  },
  {
   "cell_type": "code",
   "execution_count": 11,
   "metadata": {},
   "outputs": [
    {
     "data": {
      "text/html": [
       "<div>\n",
       "<style scoped>\n",
       "    .dataframe tbody tr th:only-of-type {\n",
       "        vertical-align: middle;\n",
       "    }\n",
       "\n",
       "    .dataframe tbody tr th {\n",
       "        vertical-align: top;\n",
       "    }\n",
       "\n",
       "    .dataframe thead th {\n",
       "        text-align: right;\n",
       "    }\n",
       "</style>\n",
       "<table border=\"1\" class=\"dataframe\">\n",
       "  <thead>\n",
       "    <tr style=\"text-align: right;\">\n",
       "      <th></th>\n",
       "      <th>Restaurant_Name</th>\n",
       "      <th>Price_Level</th>\n",
       "      <th>Restaurant_Rating</th>\n",
       "      <th>Restaurant_Address</th>\n",
       "      <th>Restaurant_Lat</th>\n",
       "      <th>Restaurant_Lon</th>\n",
       "    </tr>\n",
       "  </thead>\n",
       "  <tbody>\n",
       "    <tr>\n",
       "      <th>6</th>\n",
       "      <td>Sistina</td>\n",
       "      <td>$$$</td>\n",
       "      <td>4.5</td>\n",
       "      <td>24 E 81st St, New York</td>\n",
       "      <td>40.777609</td>\n",
       "      <td>-73.961677</td>\n",
       "    </tr>\n",
       "    <tr>\n",
       "      <th>7</th>\n",
       "      <td>Due</td>\n",
       "      <td>$$</td>\n",
       "      <td>4.4</td>\n",
       "      <td>1396 3rd Ave #1, New York</td>\n",
       "      <td>40.774695</td>\n",
       "      <td>-73.957313</td>\n",
       "    </tr>\n",
       "    <tr>\n",
       "      <th>8</th>\n",
       "      <td>The Loeb Boathouse Central Park</td>\n",
       "      <td>$$$</td>\n",
       "      <td>4.4</td>\n",
       "      <td>Park Drive North, E 72nd St, New York</td>\n",
       "      <td>40.775331</td>\n",
       "      <td>-73.968734</td>\n",
       "    </tr>\n",
       "    <tr>\n",
       "      <th>9</th>\n",
       "      <td>The Simone</td>\n",
       "      <td>nan</td>\n",
       "      <td>4.7</td>\n",
       "      <td>151 E 82nd St, New York</td>\n",
       "      <td>40.776866</td>\n",
       "      <td>-73.956948</td>\n",
       "    </tr>\n",
       "    <tr>\n",
       "      <th>10</th>\n",
       "      <td>Toloache</td>\n",
       "      <td>$$$</td>\n",
       "      <td>4.5</td>\n",
       "      <td>166 E 82nd St #2b, New York</td>\n",
       "      <td>40.776482</td>\n",
       "      <td>-73.956708</td>\n",
       "    </tr>\n",
       "  </tbody>\n",
       "</table>\n",
       "</div>"
      ],
      "text/plain": [
       "                    Restaurant_Name Price_Level  Restaurant_Rating  \\\n",
       "6                           Sistina         $$$                4.5   \n",
       "7                               Due          $$                4.4   \n",
       "8   The Loeb Boathouse Central Park         $$$                4.4   \n",
       "9                        The Simone         nan                4.7   \n",
       "10                         Toloache         $$$                4.5   \n",
       "\n",
       "                       Restaurant_Address  Restaurant_Lat  Restaurant_Lon  \n",
       "6                  24 E 81st St, New York       40.777609      -73.961677  \n",
       "7               1396 3rd Ave #1, New York       40.774695      -73.957313  \n",
       "8   Park Drive North, E 72nd St, New York       40.775331      -73.968734  \n",
       "9                 151 E 82nd St, New York       40.776866      -73.956948  \n",
       "10            166 E 82nd St #2b, New York       40.776482      -73.956708  "
      ]
     },
     "execution_count": 11,
     "metadata": {},
     "output_type": "execute_result"
    }
   ],
   "source": [
    "df = nydate.find_my_dinner(my_location = 'Met Museum', google_maps_key = API_KEY)\n",
    "df.tail()"
   ]
  },
  {
   "cell_type": "markdown",
   "metadata": {},
   "source": [
    "This function is similar to the previous one in that one can filter for the search radius (also called the **search_range**); this search_range (if used alone) is less restrictive due to the scope of Google Places. However, one can also filter for the minimum rating of the restaurant (**min_rating**), which is on a five-star scale. \n",
    "\n",
    "The default **min_rating** is 4.3. "
   ]
  },
  {
   "cell_type": "code",
   "execution_count": 12,
   "metadata": {},
   "outputs": [
    {
     "data": {
      "text/html": [
       "<div>\n",
       "<style scoped>\n",
       "    .dataframe tbody tr th:only-of-type {\n",
       "        vertical-align: middle;\n",
       "    }\n",
       "\n",
       "    .dataframe tbody tr th {\n",
       "        vertical-align: top;\n",
       "    }\n",
       "\n",
       "    .dataframe thead th {\n",
       "        text-align: right;\n",
       "    }\n",
       "</style>\n",
       "<table border=\"1\" class=\"dataframe\">\n",
       "  <thead>\n",
       "    <tr style=\"text-align: right;\">\n",
       "      <th></th>\n",
       "      <th>Restaurant_Name</th>\n",
       "      <th>Price_Level</th>\n",
       "      <th>Restaurant_Rating</th>\n",
       "      <th>Restaurant_Address</th>\n",
       "      <th>Restaurant_Lat</th>\n",
       "      <th>Restaurant_Lon</th>\n",
       "    </tr>\n",
       "  </thead>\n",
       "  <tbody>\n",
       "    <tr>\n",
       "      <th>0</th>\n",
       "      <td>HUSO</td>\n",
       "      <td>nan</td>\n",
       "      <td>4.9</td>\n",
       "      <td>1067 Madison Ave, New York</td>\n",
       "      <td>40.777392</td>\n",
       "      <td>-73.961169</td>\n",
       "    </tr>\n",
       "    <tr>\n",
       "      <th>1</th>\n",
       "      <td>The Simone</td>\n",
       "      <td>nan</td>\n",
       "      <td>4.7</td>\n",
       "      <td>151 E 82nd St, New York</td>\n",
       "      <td>40.776866</td>\n",
       "      <td>-73.956948</td>\n",
       "    </tr>\n",
       "  </tbody>\n",
       "</table>\n",
       "</div>"
      ],
      "text/plain": [
       "  Restaurant_Name Price_Level  Restaurant_Rating          Restaurant_Address  \\\n",
       "0            HUSO         nan                4.9  1067 Madison Ave, New York   \n",
       "1      The Simone         nan                4.7     151 E 82nd St, New York   \n",
       "\n",
       "   Restaurant_Lat  Restaurant_Lon  \n",
       "0       40.777392      -73.961169  \n",
       "1       40.776866      -73.956948  "
      ]
     },
     "execution_count": 12,
     "metadata": {},
     "output_type": "execute_result"
    }
   ],
   "source": [
    "df = nydate.find_my_dinner(my_location = 'Met Museum', google_maps_key = API_KEY, min_rating = 4.6)\n",
    "df.tail()"
   ]
  },
  {
   "cell_type": "markdown",
   "metadata": {},
   "source": [
    "### `choose_my_art_date`"
   ]
  },
  {
   "cell_type": "markdown",
   "metadata": {},
   "source": [
    "This function randomly chooses an 'artsy date' event-restaurant combo based on the user's starting point. The assumption of this function is that one will go to dinner *after* the date, and uses the event location to then reccomend a nearby restaurant.  \n",
    "\n",
    "To this point, the input parameters include **lat** and **lng** or **my_location**. Similar to the earlier functions, the user can also input **search_range** and **min_rating**. (Once more, **google_maps_key** is necessary). "
   ]
  },
  {
   "cell_type": "code",
   "execution_count": 13,
   "metadata": {},
   "outputs": [
    {
     "data": {
      "text/html": [
       "<div>\n",
       "<style scoped>\n",
       "    .dataframe tbody tr th:only-of-type {\n",
       "        vertical-align: middle;\n",
       "    }\n",
       "\n",
       "    .dataframe tbody tr th {\n",
       "        vertical-align: top;\n",
       "    }\n",
       "\n",
       "    .dataframe thead th {\n",
       "        text-align: right;\n",
       "    }\n",
       "</style>\n",
       "<table border=\"1\" class=\"dataframe\">\n",
       "  <thead>\n",
       "    <tr style=\"text-align: right;\">\n",
       "      <th></th>\n",
       "      <th>Field</th>\n",
       "      <th>Value</th>\n",
       "    </tr>\n",
       "  </thead>\n",
       "  <tbody>\n",
       "    <tr>\n",
       "      <th>0</th>\n",
       "      <td>Event_Name</td>\n",
       "      <td>Wu Chi-Tsung “jing-atmospheres”</td>\n",
       "    </tr>\n",
       "    <tr>\n",
       "      <th>2</th>\n",
       "      <td>Event_Description</td>\n",
       "      <td>Sean Kelly presents jing-atmospheres, Wu Chi-T...</td>\n",
       "    </tr>\n",
       "    <tr>\n",
       "      <th>4</th>\n",
       "      <td>DateEnd</td>\n",
       "      <td>2021-12-18</td>\n",
       "    </tr>\n",
       "    <tr>\n",
       "      <th>6</th>\n",
       "      <td>Distance</td>\n",
       "      <td>450.904862</td>\n",
       "    </tr>\n",
       "    <tr>\n",
       "      <th>8</th>\n",
       "      <td>Event_Lat</td>\n",
       "      <td>40.756241</td>\n",
       "    </tr>\n",
       "    <tr>\n",
       "      <th>10</th>\n",
       "      <td>Event_Lon</td>\n",
       "      <td>-73.998131</td>\n",
       "    </tr>\n",
       "    <tr>\n",
       "      <th>12</th>\n",
       "      <td>Event_Price_Adult</td>\n",
       "      <td>0</td>\n",
       "    </tr>\n",
       "    <tr>\n",
       "      <th>14</th>\n",
       "      <td>url</td>\n",
       "      <td>http://www.nyartbeat.com/event/2021/6620</td>\n",
       "    </tr>\n",
       "    <tr>\n",
       "      <th>16</th>\n",
       "      <td>Event_Price_Detailed</td>\n",
       "      <td>Free</td>\n",
       "    </tr>\n",
       "    <tr>\n",
       "      <th>18</th>\n",
       "      <td>Event_Address</td>\n",
       "      <td>314 11th Ave, New York, NY 10001, USA</td>\n",
       "    </tr>\n",
       "    <tr>\n",
       "      <th>21</th>\n",
       "      <td>Restaurant_Name</td>\n",
       "      <td>At Nine Restaurant &amp; Bar</td>\n",
       "    </tr>\n",
       "    <tr>\n",
       "      <th>23</th>\n",
       "      <td>Price_Level</td>\n",
       "      <td>$$</td>\n",
       "    </tr>\n",
       "    <tr>\n",
       "      <th>25</th>\n",
       "      <td>Restaurant_Rating</td>\n",
       "      <td>4.4</td>\n",
       "    </tr>\n",
       "    <tr>\n",
       "      <th>27</th>\n",
       "      <td>Restaurant_Address</td>\n",
       "      <td>592 9th Ave, New York</td>\n",
       "    </tr>\n",
       "    <tr>\n",
       "      <th>29</th>\n",
       "      <td>Restaurant_Lat</td>\n",
       "      <td>40.758694</td>\n",
       "    </tr>\n",
       "    <tr>\n",
       "      <th>31</th>\n",
       "      <td>Restaurant_Lon</td>\n",
       "      <td>-73.992056</td>\n",
       "    </tr>\n",
       "  </tbody>\n",
       "</table>\n",
       "</div>"
      ],
      "text/plain": [
       "                   Field                                              Value\n",
       "0             Event_Name                    Wu Chi-Tsung “jing-atmospheres”\n",
       "2      Event_Description  Sean Kelly presents jing-atmospheres, Wu Chi-T...\n",
       "4                DateEnd                                         2021-12-18\n",
       "6               Distance                                         450.904862\n",
       "8              Event_Lat                                          40.756241\n",
       "10             Event_Lon                                         -73.998131\n",
       "12     Event_Price_Adult                                                  0\n",
       "14                   url           http://www.nyartbeat.com/event/2021/6620\n",
       "16  Event_Price_Detailed                                               Free\n",
       "18         Event_Address              314 11th Ave, New York, NY 10001, USA\n",
       "21       Restaurant_Name                           At Nine Restaurant & Bar\n",
       "23           Price_Level                                                 $$\n",
       "25     Restaurant_Rating                                                4.4\n",
       "27    Restaurant_Address                              592 9th Ave, New York\n",
       "29        Restaurant_Lat                                          40.758694\n",
       "31        Restaurant_Lon                                         -73.992056"
      ]
     },
     "execution_count": 13,
     "metadata": {},
     "output_type": "execute_result"
    }
   ],
   "source": [
    "df = nydate.choose_my_art_date(my_location = 'Hudson Yards', google_maps_key = API_KEY)\n",
    "df"
   ]
  },
  {
   "cell_type": "markdown",
   "metadata": {},
   "source": [
    "As we can see, this function returns as a long table with all the information you may be interested in;  \n",
    "most of the fields returned are delineated by Event details and Restaurant details."
   ]
  },
  {
   "cell_type": "markdown",
   "metadata": {},
   "source": [
    "### `mapping` parameter"
   ]
  },
  {
   "cell_type": "markdown",
   "metadata": {},
   "source": [
    "Within all three functions, one can toggle the **mapping** parameter. This parameter is input as a boolean response (True/False or 0/1) and returns an interactive google map[<sup>1</sup>](#fn1) with places of interest. See below for a couple of use cases of mapping. "
   ]
  },
  {
   "cell_type": "code",
   "execution_count": 14,
   "metadata": {},
   "outputs": [
    {
     "data": {
      "application/vnd.jupyter.widget-view+json": {
       "model_id": "e7e3d24a2e664556a9cf1f94a0231354",
       "version_major": 2,
       "version_minor": 0
      },
      "text/plain": [
       "Figure(layout=FigureLayout(height='420px'))"
      ]
     },
     "metadata": {},
     "output_type": "display_data"
    }
   ],
   "source": [
    "df,maps = nydate.find_my_art_events(my_location = 'Met Museum', \\\n",
    "                                google_maps_key = API_KEY, mapping = 1)\n",
    "maps"
   ]
  },
  {
   "cell_type": "code",
   "execution_count": 15,
   "metadata": {},
   "outputs": [],
   "source": [
    "df,maps = nydate.choose_my_art_date(my_location = 'Chelsea Market', \\\n",
    "                                google_maps_key = API_KEY, search_range = 1000,mapping = 1)"
   ]
  },
  {
   "cell_type": "code",
   "execution_count": 16,
   "metadata": {},
   "outputs": [
    {
     "data": {
      "application/vnd.jupyter.widget-view+json": {
       "model_id": "4a7e57d6aad04734a297a77c463f46bb",
       "version_major": 2,
       "version_minor": 0
      },
      "text/plain": [
       "Figure(layout=FigureLayout(height='420px'))"
      ]
     },
     "metadata": {},
     "output_type": "display_data"
    }
   ],
   "source": [
    "maps"
   ]
  },
  {
   "cell_type": "markdown",
   "metadata": {},
   "source": [
    "The interactive maps above include points that show the name of the locations returned by our data. Starting point is indicated in blue, and the markers show the locations of the restaurants and events of interest. "
   ]
  },
  {
   "cell_type": "markdown",
   "metadata": {},
   "source": [
    "---\n",
    "<span id=\"fn1\"> <sup>1</sup> obtained with the [gmaps](https://pypi.org/project/gmaps/) package and using the supporting map_events function of the package) </span>\n"
   ]
  }
 ],
 "metadata": {
  "kernelspec": {
   "display_name": "Python 3 (ipykernel)",
   "language": "python",
   "name": "python3"
  },
  "language_info": {
   "codemirror_mode": {
    "name": "ipython",
    "version": 3
   },
   "file_extension": ".py",
   "mimetype": "text/x-python",
   "name": "python",
   "nbconvert_exporter": "python",
   "pygments_lexer": "ipython3",
   "version": "3.9.7"
  }
 },
 "nbformat": 4,
 "nbformat_minor": 4
}
